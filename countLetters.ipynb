{
 "cells": [
  {
   "cell_type": "code",
   "execution_count": 15,
   "metadata": {},
   "outputs": [
    {
     "name": "stdout",
     "output_type": "stream",
     "text": [
      "說說話this is a pen this is an apple uh apple pen\n"
     ]
    },
    {
     "data": {
      "text/plain": [
       "{' ': 10,\n",
       " 'a': 4,\n",
       " 'e': 4,\n",
       " 'h': 3,\n",
       " 'i': 4,\n",
       " 'l': 2,\n",
       " 'n': 3,\n",
       " 'p': 6,\n",
       " 's': 4,\n",
       " 't': 2,\n",
       " 'u': 1}"
      ]
     },
     "execution_count": 15,
     "metadata": {},
     "output_type": "execute_result"
    }
   ],
   "source": [
    "def countLetters(m):\n",
    "    letter_dict = {}\n",
    "    for l in m:\n",
    "        if l not in letter_dict:\n",
    "            letter_dict[l] = 1\n",
    "        else:\n",
    "            letter_dict[l] += 1\n",
    "    \n",
    "    return letter_dict\n",
    "    \n",
    "s = input('說說話')\n",
    "countLetters(s)"
   ]
  }
 ],
 "metadata": {
  "kernelspec": {
   "display_name": "Python 3",
   "language": "python",
   "name": "python3"
  },
  "language_info": {
   "codemirror_mode": {
    "name": "ipython",
    "version": 3
   },
   "file_extension": ".py",
   "mimetype": "text/x-python",
   "name": "python",
   "nbconvert_exporter": "python",
   "pygments_lexer": "ipython3",
   "version": "3.6.4"
  }
 },
 "nbformat": 4,
 "nbformat_minor": 2
}
